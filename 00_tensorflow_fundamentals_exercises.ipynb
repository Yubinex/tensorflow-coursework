{
  "nbformat": 4,
  "nbformat_minor": 0,
  "metadata": {
    "colab": {
      "provenance": [],
      "authorship_tag": "ABX9TyNHk598h2qIAh5dtjmv8+ym",
      "include_colab_link": true
    },
    "kernelspec": {
      "name": "python3",
      "display_name": "Python 3"
    },
    "language_info": {
      "name": "python"
    }
  },
  "cells": [
    {
      "cell_type": "markdown",
      "metadata": {
        "id": "view-in-github",
        "colab_type": "text"
      },
      "source": [
        "<a href=\"https://colab.research.google.com/github/Yubinex/tensorflow-coursework/blob/master/00_tensorflow_fundamentals_exercises.ipynb\" target=\"_parent\"><img src=\"https://colab.research.google.com/assets/colab-badge.svg\" alt=\"Open In Colab\"/></a>"
      ]
    },
    {
      "cell_type": "markdown",
      "source": [
        "# TensorFlow Fundamentals Exercises"
      ],
      "metadata": {
        "id": "-2m2mFNZXPUf"
      }
    },
    {
      "cell_type": "code",
      "source": [
        "import tensorflow as tf"
      ],
      "metadata": {
        "id": "hMZC6phAXpVQ"
      },
      "execution_count": 1,
      "outputs": []
    },
    {
      "cell_type": "markdown",
      "source": [
        "## 1. Create a vector, scalar, matrix and tensor with values of your choosing using `tf.constant()`."
      ],
      "metadata": {
        "id": "HTYBHxA7XUp9"
      }
    },
    {
      "cell_type": "code",
      "execution_count": 3,
      "metadata": {
        "colab": {
          "base_uri": "https://localhost:8080/"
        },
        "id": "Imby8MAyXBZI",
        "outputId": "8c6a8ae1-b986-417a-b047-647d72cf70b4"
      },
      "outputs": [
        {
          "output_type": "execute_result",
          "data": {
            "text/plain": [
              "<tf.Tensor: shape=(), dtype=int32, numpy=1>"
            ]
          },
          "metadata": {},
          "execution_count": 3
        }
      ],
      "source": [
        "scalar = tf.constant(1)\n",
        "scalar"
      ]
    },
    {
      "cell_type": "code",
      "source": [
        "vector = tf.constant([1, 2, 3])\n",
        "vector"
      ],
      "metadata": {
        "colab": {
          "base_uri": "https://localhost:8080/"
        },
        "id": "5golwuWnX3wx",
        "outputId": "f366bfc5-be53-4c5e-cec6-e2977df9e0d5"
      },
      "execution_count": 4,
      "outputs": [
        {
          "output_type": "execute_result",
          "data": {
            "text/plain": [
              "<tf.Tensor: shape=(3,), dtype=int32, numpy=array([1, 2, 3], dtype=int32)>"
            ]
          },
          "metadata": {},
          "execution_count": 4
        }
      ]
    },
    {
      "cell_type": "code",
      "source": [
        "matrix = tf.constant([[1, 2, 3],\n",
        "                      [4, 5, 6],\n",
        "                      [7, 8, 9]])\n",
        "matrix"
      ],
      "metadata": {
        "colab": {
          "base_uri": "https://localhost:8080/"
        },
        "id": "0eVJkO_wYAYM",
        "outputId": "3a61ce74-19ac-4401-fedd-a1bcbc6d3578"
      },
      "execution_count": 5,
      "outputs": [
        {
          "output_type": "execute_result",
          "data": {
            "text/plain": [
              "<tf.Tensor: shape=(3, 3), dtype=int32, numpy=\n",
              "array([[1, 2, 3],\n",
              "       [4, 5, 6],\n",
              "       [7, 8, 9]], dtype=int32)>"
            ]
          },
          "metadata": {},
          "execution_count": 5
        }
      ]
    },
    {
      "cell_type": "code",
      "source": [
        "tensor = tf.constant([[[1, 2, 3],\n",
        "                       [4, 5, 6]],\n",
        "                      [[1, 2, 3],\n",
        "                       [4, 5, 6]]])\n",
        "tensor"
      ],
      "metadata": {
        "colab": {
          "base_uri": "https://localhost:8080/"
        },
        "id": "l4Y13237YMoC",
        "outputId": "ded5aa31-baf2-4a93-fffe-ce579c3ca74e"
      },
      "execution_count": 6,
      "outputs": [
        {
          "output_type": "execute_result",
          "data": {
            "text/plain": [
              "<tf.Tensor: shape=(2, 2, 3), dtype=int32, numpy=\n",
              "array([[[1, 2, 3],\n",
              "        [4, 5, 6]],\n",
              "\n",
              "       [[1, 2, 3],\n",
              "        [4, 5, 6]]], dtype=int32)>"
            ]
          },
          "metadata": {},
          "execution_count": 6
        }
      ]
    },
    {
      "cell_type": "markdown",
      "source": [
        "## 2. Find the shape, rank and size of the tensor you created in 1."
      ],
      "metadata": {
        "id": "PBA_-9SFYs7j"
      }
    },
    {
      "cell_type": "code",
      "source": [
        "print(f\"Display shape of tensor: {tensor.shape}\")\n",
        "print(f\"Display rank of tensor; {tf.rank(tensor)}\")\n",
        "print(f\"Display size of tensor: {tf.size(tensor)}\")"
      ],
      "metadata": {
        "colab": {
          "base_uri": "https://localhost:8080/"
        },
        "id": "wR3fCHpuYc5S",
        "outputId": "c7d8898e-9b08-4484-938c-32aaee89c357"
      },
      "execution_count": 13,
      "outputs": [
        {
          "output_type": "stream",
          "name": "stdout",
          "text": [
            "Display shape of tensor: (2, 2, 3)\n",
            "Display rank of tensor; 3\n",
            "Display size of tensor: 12\n"
          ]
        }
      ]
    },
    {
      "cell_type": "markdown",
      "source": [
        "## 3. Create two tensors containing random values between 0 and 1 with shape `[5, 300]`."
      ],
      "metadata": {
        "id": "IwTJI--_am1A"
      }
    },
    {
      "cell_type": "code",
      "source": [
        "tf.random.set_seed(42)\n",
        "random_tensor_0 = tf.random.uniform((5, 300))\n",
        "random_tensor_1 = tf.random.uniform((5, 300))\n",
        "random_tensor_0, random_tensor_0.shape, random_tensor_1, random_tensor_1.shape"
      ],
      "metadata": {
        "colab": {
          "base_uri": "https://localhost:8080/"
        },
        "id": "Q_4ONhGUY6Y9",
        "outputId": "f99e19cf-8664-4e37-8ff5-488767db0633"
      },
      "execution_count": 16,
      "outputs": [
        {
          "output_type": "execute_result",
          "data": {
            "text/plain": [
              "(<tf.Tensor: shape=(5, 300), dtype=float32, numpy=\n",
              " array([[0.6645621 , 0.44100678, 0.3528825 , ..., 0.31410468, 0.7593535 ,\n",
              "         0.03699052],\n",
              "        [0.532024  , 0.29129946, 0.10571766, ..., 0.54052293, 0.31425726,\n",
              "         0.2200619 ],\n",
              "        [0.08404207, 0.03614604, 0.97732127, ..., 0.21516645, 0.9786098 ,\n",
              "         0.00726748],\n",
              "        [0.7396945 , 0.6653172 , 0.0787828 , ..., 0.7117733 , 0.07013571,\n",
              "         0.9409125 ],\n",
              "        [0.15861344, 0.12024033, 0.27218235, ..., 0.8824879 , 0.1432488 ,\n",
              "         0.44135118]], dtype=float32)>,\n",
              " TensorShape([5, 300]),\n",
              " <tf.Tensor: shape=(5, 300), dtype=float32, numpy=\n",
              " array([[0.68789124, 0.48447883, 0.9309944 , ..., 0.6920762 , 0.33180213,\n",
              "         0.9212563 ],\n",
              "        [0.27369928, 0.10631859, 0.6218617 , ..., 0.4382149 , 0.30427706,\n",
              "         0.51477313],\n",
              "        [0.00920248, 0.37280262, 0.8177401 , ..., 0.56786287, 0.49201214,\n",
              "         0.9892651 ],\n",
              "        [0.88608265, 0.08672249, 0.12160683, ..., 0.91770685, 0.72545695,\n",
              "         0.8280058 ],\n",
              "        [0.36690474, 0.9200133 , 0.9646884 , ..., 0.69012   , 0.7137332 ,\n",
              "         0.2584542 ]], dtype=float32)>,\n",
              " TensorShape([5, 300]))"
            ]
          },
          "metadata": {},
          "execution_count": 16
        }
      ]
    },
    {
      "cell_type": "markdown",
      "source": [
        "## 4. Multiply the two tensors you created in 3 using matrix multiplication."
      ],
      "metadata": {
        "id": "6VKblMrgb2bE"
      }
    },
    {
      "cell_type": "code",
      "source": [
        "tf.linalg.matmul(random_tensor_0, tf.transpose(random_tensor_1))"
      ],
      "metadata": {
        "colab": {
          "base_uri": "https://localhost:8080/"
        },
        "id": "lBMQHewvbZNa",
        "outputId": "08413d03-4c96-4fb4-c153-2dddf296bd92"
      },
      "execution_count": 18,
      "outputs": [
        {
          "output_type": "execute_result",
          "data": {
            "text/plain": [
              "<tf.Tensor: shape=(5, 5), dtype=float32, numpy=\n",
              "array([[80.33345 , 73.40498 , 77.159615, 73.98369 , 80.90053 ],\n",
              "       [75.146355, 68.80437 , 74.24302 , 71.841835, 75.60206 ],\n",
              "       [79.7594  , 75.644554, 77.797585, 74.74873 , 80.559845],\n",
              "       [75.08526 , 69.064064, 74.30776 , 72.27616 , 76.05669 ],\n",
              "       [85.05688 , 74.26627 , 78.00687 , 74.88679 , 83.13417 ]],\n",
              "      dtype=float32)>"
            ]
          },
          "metadata": {},
          "execution_count": 18
        }
      ]
    },
    {
      "cell_type": "markdown",
      "source": [
        "## 5. Multiply the two tensors you created in 3 using dot product."
      ],
      "metadata": {
        "id": "5bV6TeR-ccG6"
      }
    },
    {
      "cell_type": "code",
      "source": [
        "tf.tensordot(random_tensor_0, tf.transpose(random_tensor_1), axes=1)"
      ],
      "metadata": {
        "colab": {
          "base_uri": "https://localhost:8080/"
        },
        "id": "oBHVdw9Lb9MQ",
        "outputId": "78bd6ceb-69f2-415f-920b-5539c1eb42c3"
      },
      "execution_count": 22,
      "outputs": [
        {
          "output_type": "execute_result",
          "data": {
            "text/plain": [
              "<tf.Tensor: shape=(5, 5), dtype=float32, numpy=\n",
              "array([[80.33345 , 73.40498 , 77.159615, 73.98369 , 80.90053 ],\n",
              "       [75.146355, 68.80437 , 74.24302 , 71.841835, 75.60206 ],\n",
              "       [79.7594  , 75.644554, 77.797585, 74.74873 , 80.559845],\n",
              "       [75.08526 , 69.064064, 74.30776 , 72.27616 , 76.05669 ],\n",
              "       [85.05688 , 74.26627 , 78.00687 , 74.88679 , 83.13417 ]],\n",
              "      dtype=float32)>"
            ]
          },
          "metadata": {},
          "execution_count": 22
        }
      ]
    },
    {
      "cell_type": "markdown",
      "source": [
        "## 6. Create a tensor with random values between 0 and 1 with shape `[224, 224, 3]`."
      ],
      "metadata": {
        "id": "tgdVT1kJc9Vp"
      }
    },
    {
      "cell_type": "code",
      "source": [
        "large_tensor = tf.random.uniform(shape=[224, 224, 3], minval=0, maxval=1)\n",
        "large_tensor"
      ],
      "metadata": {
        "colab": {
          "base_uri": "https://localhost:8080/"
        },
        "id": "DRrjPtfZct16",
        "outputId": "1e0db4c4-afd3-48b9-d234-6644e930eba3"
      },
      "execution_count": 33,
      "outputs": [
        {
          "output_type": "execute_result",
          "data": {
            "text/plain": [
              "<tf.Tensor: shape=(224, 224, 3), dtype=float32, numpy=\n",
              "array([[[0.95831835, 0.01680839, 0.3156035 ],\n",
              "        [0.16013157, 0.7148702 , 0.7892921 ],\n",
              "        [0.11484027, 0.33310425, 0.21091413],\n",
              "        ...,\n",
              "        [0.6279857 , 0.85051286, 0.9490392 ],\n",
              "        [0.62438786, 0.2802421 , 0.18754554],\n",
              "        [0.9087832 , 0.46846092, 0.5317346 ]],\n",
              "\n",
              "       [[0.85744655, 0.51288927, 0.18603599],\n",
              "        [0.04882693, 0.78045344, 0.79377043],\n",
              "        [0.9356363 , 0.32798207, 0.15949786],\n",
              "        ...,\n",
              "        [0.6933085 , 0.5420611 , 0.1860913 ],\n",
              "        [0.7326596 , 0.9234495 , 0.07200372],\n",
              "        [0.5471792 , 0.24985266, 0.14673471]],\n",
              "\n",
              "       [[0.5033684 , 0.7000841 , 0.21468806],\n",
              "        [0.9304948 , 0.17212296, 0.720364  ],\n",
              "        [0.6657183 , 0.17304075, 0.7110392 ],\n",
              "        ...,\n",
              "        [0.35423398, 0.126225  , 0.24436975],\n",
              "        [0.096439  , 0.06387579, 0.32836854],\n",
              "        [0.15067935, 0.6084572 , 0.47766674]],\n",
              "\n",
              "       ...,\n",
              "\n",
              "       [[0.23573959, 0.42224514, 0.9151635 ],\n",
              "        [0.38158715, 0.32973826, 0.5171102 ],\n",
              "        [0.06080973, 0.31411576, 0.22626662],\n",
              "        ...,\n",
              "        [0.5705669 , 0.4921385 , 0.09957004],\n",
              "        [0.7411188 , 0.02490544, 0.6451397 ],\n",
              "        [0.87311184, 0.7771938 , 0.7208451 ]],\n",
              "\n",
              "       [[0.9943476 , 0.7494216 , 0.04249358],\n",
              "        [0.0224061 , 0.5791631 , 0.7543137 ],\n",
              "        [0.84515274, 0.6103951 , 0.5505407 ],\n",
              "        ...,\n",
              "        [0.1359564 , 0.47180867, 0.4215784 ],\n",
              "        [0.1299932 , 0.5381433 , 0.71466696],\n",
              "        [0.15192771, 0.8817011 , 0.2109077 ]],\n",
              "\n",
              "       [[0.603493  , 0.16534615, 0.6985712 ],\n",
              "        [0.15773225, 0.8743893 , 0.58997643],\n",
              "        [0.80147445, 0.37448967, 0.8073541 ],\n",
              "        ...,\n",
              "        [0.65353775, 0.7825564 , 0.45476055],\n",
              "        [0.45565426, 0.39367366, 0.925439  ],\n",
              "        [0.05451977, 0.5806842 , 0.01799083]]], dtype=float32)>"
            ]
          },
          "metadata": {},
          "execution_count": 33
        }
      ]
    },
    {
      "cell_type": "markdown",
      "source": [
        "## 7. Find the min and max values of the tensor you created in 6 along the first axis."
      ],
      "metadata": {
        "id": "krB5w8jqdR_s"
      }
    },
    {
      "cell_type": "code",
      "source": [
        "print(f\"Max value: {tf.reduce_max(large_tensor)}\")\n",
        "print(f\"Min value: {tf.reduce_min(large_tensor)}\")"
      ],
      "metadata": {
        "colab": {
          "base_uri": "https://localhost:8080/"
        },
        "id": "FZWEatcKdKo3",
        "outputId": "24477f0b-b776-4d5e-825d-b8a906d2a047"
      },
      "execution_count": 34,
      "outputs": [
        {
          "output_type": "stream",
          "name": "stdout",
          "text": [
            "Max value: 0.9999972581863403\n",
            "Min value: 1.1444091796875e-05\n"
          ]
        }
      ]
    },
    {
      "cell_type": "markdown",
      "source": [
        "## 8. Created a tensor with random values of shape `[1, 224, 224, 3]` then squeeze it to change the shape to `[224, 224, 3]`."
      ],
      "metadata": {
        "id": "7KDv4_Tpe-xr"
      }
    },
    {
      "cell_type": "code",
      "source": [
        "large_tensor_2 = tf.random.uniform(shape=[1, 224, 224, 3])\n",
        "print(f\"Shape before: {large_tensor_2.shape}\")\n",
        "large_tensor_2 = tf.squeeze(large_tensor_2)\n",
        "print(f\"Shape after: {large_tensor_2.shape}\")"
      ],
      "metadata": {
        "colab": {
          "base_uri": "https://localhost:8080/"
        },
        "id": "kRwnPrG2eUkx",
        "outputId": "a5388ddc-555e-4543-9420-c6bcf6c82148"
      },
      "execution_count": 38,
      "outputs": [
        {
          "output_type": "stream",
          "name": "stdout",
          "text": [
            "Shape before: (1, 224, 224, 3)\n",
            "Shape after: (224, 224, 3)\n"
          ]
        }
      ]
    },
    {
      "cell_type": "markdown",
      "source": [
        "## 9. Create a tensor with shape `[10]` using your own choice of values, then find the index which has the maximum value."
      ],
      "metadata": {
        "id": "yrynKcCdfqta"
      }
    },
    {
      "cell_type": "code",
      "source": [
        "another_tensor = tf.constant([4, 2, 7, 4, 2, 4, 34, 2, 1, 23])\n",
        "tf.argmax(another_tensor)"
      ],
      "metadata": {
        "colab": {
          "base_uri": "https://localhost:8080/"
        },
        "id": "uORuFF7KfTjf",
        "outputId": "1fc94887-24fe-41b9-bf46-cf614777dce0"
      },
      "execution_count": 39,
      "outputs": [
        {
          "output_type": "execute_result",
          "data": {
            "text/plain": [
              "<tf.Tensor: shape=(), dtype=int64, numpy=6>"
            ]
          },
          "metadata": {},
          "execution_count": 39
        }
      ]
    },
    {
      "cell_type": "markdown",
      "source": [
        "## 10. One-hot encode the tensor you created in 9."
      ],
      "metadata": {
        "id": "U9YC1LndgAIn"
      }
    },
    {
      "cell_type": "code",
      "source": [
        "tf.one_hot(another_tensor, depth=10)"
      ],
      "metadata": {
        "colab": {
          "base_uri": "https://localhost:8080/"
        },
        "id": "mt-TDIOmf8Cf",
        "outputId": "661522f0-4952-4d61-d0e3-71fb31c3ddc0"
      },
      "execution_count": 43,
      "outputs": [
        {
          "output_type": "execute_result",
          "data": {
            "text/plain": [
              "<tf.Tensor: shape=(10, 10), dtype=float32, numpy=\n",
              "array([[0., 0., 0., 0., 1., 0., 0., 0., 0., 0.],\n",
              "       [0., 0., 1., 0., 0., 0., 0., 0., 0., 0.],\n",
              "       [0., 0., 0., 0., 0., 0., 0., 1., 0., 0.],\n",
              "       [0., 0., 0., 0., 1., 0., 0., 0., 0., 0.],\n",
              "       [0., 0., 1., 0., 0., 0., 0., 0., 0., 0.],\n",
              "       [0., 0., 0., 0., 1., 0., 0., 0., 0., 0.],\n",
              "       [0., 0., 0., 0., 0., 0., 0., 0., 0., 0.],\n",
              "       [0., 0., 1., 0., 0., 0., 0., 0., 0., 0.],\n",
              "       [0., 1., 0., 0., 0., 0., 0., 0., 0., 0.],\n",
              "       [0., 0., 0., 0., 0., 0., 0., 0., 0., 0.]], dtype=float32)>"
            ]
          },
          "metadata": {},
          "execution_count": 43
        }
      ]
    }
  ]
}